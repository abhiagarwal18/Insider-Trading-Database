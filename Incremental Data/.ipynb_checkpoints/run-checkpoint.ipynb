{
 "cells": [
  {
   "cell_type": "code",
   "execution_count": null,
   "metadata": {},
   "outputs": [],
   "source": [
    "import pandas as pd\n",
    "from selenium import webdriver\n",
    "from getData import dataCollector\n",
    "#from dataProcessor import preprocess\n",
    "import os\n",
    "import shutil\n",
    "import time\n",
    "\n",
    "\n",
    "\n"
   ]
  },
  {
   "cell_type": "code",
   "execution_count": null,
   "metadata": {},
   "outputs": [],
   "source": [
    "def tiny_file_rename(newname, folder_of_download, time_to_wait=30):\n",
    "    time_counter = 0\n",
    "    filename = max([f for f in os.listdir(folder_of_download)], key=lambda xa :   os.path.getctime(os.path.join(folder_of_download,xa)))\n",
    "    while '.part' in filename:\n",
    "        time.sleep(1)\n",
    "        time_counter += 1\n",
    "        if time_counter > time_to_wait:\n",
    "            raise Exception('Waited too long for file to download')\n",
    "    filename = max([f for f in os.listdir(folder_of_download)], key=lambda xa :   os.path.getctime(os.path.join(folder_of_download,xa)))\n",
    "    os.rename(os.path.join(folder_of_download, filename), os.path.join(folder_of_download, newname))\n",
    "\n",
    "\n"
   ]
  },
  {
   "cell_type": "code",
   "execution_count": null,
   "metadata": {},
   "outputs": [],
   "source": [
    "download_path = '/Users/abhishek/Desktop/William-O-Neal-Data-Analytics/InsiderTrading'\n",
    "chromedriver_path = \"/Users/abhishek/Desktop/William-O-Neal-Data-Analytics/chromedriver\"\n",
    "chrome_options = webdriver.ChromeOptions()\n",
    "prefs = {'download.default_directory' : download_path}\n",
    "chrome_options.add_experimental_option('prefs', prefs)\n",
    "chrome_path = chromedriver_path\n",
    "driver = webdriver.Chrome(chrome_path, options=chrome_options)\n",
    "url = \"https://www.nseindia.com/api/corporates-pit?index=equities&csv=true\"\n",
    "driver.get(url)\n",
    "\n",
    "from time import sleep\n",
    "sleep(10)\n",
    "\n",
    "\n"
   ]
  },
  {
   "cell_type": "code",
   "execution_count": null,
   "metadata": {},
   "outputs": [],
   "source": [
    "import os\n",
    "import glob\n",
    "\n",
    "path = download_path\n",
    "extension = 'csv'\n",
    "os.chdir(path)\n",
    "result = glob.glob('*.{}'.format(extension))\n",
    "\n",
    "result = sorted(result,reverse = True)\n",
    "\n",
    "import pandas as pd\n",
    "data = pd.read_csv(result[0])"
   ]
  },
  {
   "cell_type": "code",
   "execution_count": null,
   "metadata": {},
   "outputs": [],
   "source": [
    "del data['BROADCASTE DATE AND TIME ']\n",
    "del data['XBRL ']\n",
    "del data['REMARK ']\n",
    "del data['EXCHANGE ']\n",
    "del data['NUMBER OF UNITS/CONTRACT LOT SIZE  (SELL) ']\n",
    "del data['NOTIONAL VALUE(SELL) ']\n",
    "del data['NUMBER OF UNITS/CONTRACT LOT SIZE (BUY) ']\n",
    "del data['NOTIONAL VALUE(BUY) ']\n",
    "del data['DERIVATIVE CONTRACT SPECIFICATION ']\n",
    "del data['DERIVATIVE TYPE SECURITY ']\n",
    "del data['% POST ']"
   ]
  },
  {
   "cell_type": "code",
   "execution_count": null,
   "metadata": {},
   "outputs": [],
   "source": []
  },
  {
   "cell_type": "code",
   "execution_count": null,
   "metadata": {},
   "outputs": [],
   "source": []
  }
 ],
 "metadata": {
  "kernelspec": {
   "display_name": "Python 3",
   "language": "python",
   "name": "python3"
  },
  "language_info": {
   "codemirror_mode": {
    "name": "ipython",
    "version": 3
   },
   "file_extension": ".py",
   "mimetype": "text/x-python",
   "name": "python",
   "nbconvert_exporter": "python",
   "pygments_lexer": "ipython3",
   "version": "3.8.2"
  }
 },
 "nbformat": 4,
 "nbformat_minor": 4
}
